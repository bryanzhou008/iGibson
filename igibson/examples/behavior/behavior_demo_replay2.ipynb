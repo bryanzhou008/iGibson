version https://git-lfs.github.com/spec/v1
oid sha256:951a0846dad677329576fc04076de6f44180ac362b65a4896543ae65bb7b7769
size 515814
